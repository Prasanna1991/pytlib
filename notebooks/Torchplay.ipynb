{
 "cells": [
  {
   "cell_type": "code",
   "execution_count": 5,
   "metadata": {},
   "outputs": [
    {
     "data": {
      "text/plain": [
       "Variable containing:\n",
       "(0 ,.,.) = \n",
       "  2  4  6\n",
       "[torch.FloatTensor of size 1x1x3]"
      ]
     },
     "execution_count": 5,
     "metadata": {},
     "output_type": "execute_result"
    }
   ],
   "source": [
    "import torch\n",
    "from torch.autograd import Variable\n",
    "import torch.nn as nn\n",
    "import torch.nn.functional as F\n",
    "input = Variable(torch.Tensor([[[1,2,3,4,5,6,7]]]))\n",
    "F.avg_pool1d(input, kernel_size=3, stride=2)"
   ]
  },
  {
   "cell_type": "code",
   "execution_count": 83,
   "metadata": {},
   "outputs": [
    {
     "data": {
      "text/plain": [
       "((None, 0),\n",
       " (<torch.autograd.function.UnsqueezeBackward at 0x7f0520dcda00>, 0),\n",
       " (<torch.autograd.function.TransposeBackward at 0x7f0520dcd620>, 0))"
      ]
     },
     "execution_count": 83,
     "metadata": {},
     "output_type": "execute_result"
    }
   ],
   "source": [
    "from torch.nn.parameter import Parameter\n",
    "class Net(nn.Module):\n",
    "    def __init__(self,N=10):\n",
    "        super(Net, self).__init__()\n",
    "        self.W = Parameter(torch.rand(N))\n",
    "        self.B = Parameter(torch.rand(N))\n",
    "        self.A = Parameter()\n",
    "        \n",
    "    def forward(self,x):\n",
    "        if self.A.data.size()==torch.Size([]):\n",
    "            self.A = Parameter(torch.randn(20,x.data.shape[-1]))\n",
    "        return F.linear(x,weight=self.A)\n",
    "    \n",
    "net = Net()\n",
    "input = Variable(torch.rand(5))\n",
    "output = net.forward(input)\n",
    "x = list(net.parameters())[0]\n",
    "f = output.grad_fn\n",
    "g = f.next_functions[0][0]\n",
    "g.next_functions"
   ]
  },
  {
   "cell_type": "code",
   "execution_count": 24,
   "metadata": {},
   "outputs": [
    {
     "data": {
      "text/plain": [
       "ParameterList (\n",
       ")"
      ]
     },
     "execution_count": 24,
     "metadata": {},
     "output_type": "execute_result"
    }
   ],
   "source": [
    "input = Variable(torch.randn(128, 20))\n",
    "x = torch.randn(2,5)\n",
    "\n",
    "w = nn.Parameter()\n",
    "m = nn.Linear(20, 30)\n",
    "m(input)\n",
    "nn.ParameterList()"
   ]
  },
  {
   "cell_type": "code",
   "execution_count": 51,
   "metadata": {},
   "outputs": [
    {
     "data": {
      "text/plain": [
       "5L"
      ]
     },
     "execution_count": 51,
     "metadata": {},
     "output_type": "execute_result"
    }
   ],
   "source": [
    "x = Variable(torch.rand(5))\n",
    "x.data.shape[-1]\n"
   ]
  },
  {
   "cell_type": "code",
   "execution_count": 43,
   "metadata": {},
   "outputs": [
    {
     "data": {
      "text/plain": [
       "True"
      ]
     },
     "execution_count": 43,
     "metadata": {},
     "output_type": "execute_result"
    }
   ],
   "source": [
    "x = Parameter()\n",
    "x.data.size()=="
   ]
  },
  {
   "cell_type": "code",
   "execution_count": 86,
   "metadata": {},
   "outputs": [
    {
     "data": {
      "text/plain": [
       "\n",
       "(0 ,0 ,.,.) = \n",
       "1.00000e-31 *\n",
       "  -2.3301\n",
       "\n",
       "(0 ,1 ,.,.) = \n",
       "1.00000e-31 *\n",
       "   0.0000\n",
       "\n",
       "(1 ,0 ,.,.) = \n",
       "1.00000e-31 *\n",
       "   0.0000\n",
       "\n",
       "(1 ,1 ,.,.) = \n",
       "1.00000e-31 *\n",
       "   0.0000\n",
       "[torch.FloatTensor of size 2x2x1x1]"
      ]
     },
     "execution_count": 86,
     "metadata": {},
     "output_type": "execute_result"
    }
   ],
   "source": [
    "torch.Tensor(2,2).view(2,2,1,1)"
   ]
  },
  {
   "cell_type": "code",
   "execution_count": null,
   "metadata": {},
   "outputs": [],
   "source": []
  }
 ],
 "metadata": {
  "kernelspec": {
   "display_name": "Python 2",
   "language": "python",
   "name": "python2"
  },
  "language_info": {
   "codemirror_mode": {
    "name": "ipython",
    "version": 2
   },
   "file_extension": ".py",
   "mimetype": "text/x-python",
   "name": "python",
   "nbconvert_exporter": "python",
   "pygments_lexer": "ipython2",
   "version": "2.7.12"
  }
 },
 "nbformat": 4,
 "nbformat_minor": 2
}
