{
 "cells": [
  {
   "cell_type": "code",
   "execution_count": 101,
   "metadata": {
    "collapsed": false
   },
   "outputs": [
    {
     "data": {
      "text/plain": [
       "0.12510987938580465"
      ]
     },
     "execution_count": 101,
     "metadata": {},
     "output_type": "execute_result"
    }
   ],
   "source": [
    "import matplotlib.pyplot as plt\n",
    "infinity_queue(1,0.0001,10,10)\n"
   ]
  },
  {
   "cell_type": "code",
   "execution_count": 240,
   "metadata": {
    "collapsed": false
   },
   "outputs": [
    {
     "name": "stdout",
     "output_type": "stream",
     "text": [
      "[[-17721.67864513 -13971.58684393 -11456.85526032  -8208.93125017]\n",
      " [-13969.27506805 -10468.68289394  -8203.2011775   -5453.02707173]\n",
      " [-11452.0621859   -8200.96963888  -6184.73778962  -3932.31358822]\n",
      " [ -8199.36762046  -5447.27432764  -3929.54221272  -2672.61782007]]\n",
      "(3, 3) -2672.61782007\n"
     ]
    }
   ],
   "source": [
    "import numpy as np\n",
    "from collections import defaultdict\n",
    "# draw arrivals and wait times from poisson dists to simulate observations\n",
    "# use MLE to find best estimates of lambda, mu\n",
    "\n",
    "#1) draw two random numbers\n",
    "def generate_observtaions(lam,mu,num_intervals,seed=1234):\n",
    "    np.random.seed(seed)\n",
    "    arrivals = np.random.poisson(lam,num_intervals)\n",
    "\n",
    "    persons = []\n",
    "    for i,count in enumerate(arrivals):\n",
    "        if count==0: continue\n",
    "        service_times = np.random.exponential(mu,count)\n",
    "        for st in service_times:\n",
    "            persons.append((i,st))\n",
    "\n",
    "    observations = [0]*(num_intervals)\n",
    "    for p in persons:\n",
    "        #print range(p[0],int(p[0]+math.ceil(p[1])))\n",
    "        for i in range(p[0],min(int(p[0]+math.ceil(p[1])),num_intervals)):\n",
    "            observations[i]+=1\n",
    "    return persons,observations\n",
    "\n",
    "def infinity_queue(_l,_u,_k,_t):\n",
    "    assert _k>=0 and isinstance(_k,(int,long)), 'k needs >=0 and is integer'\n",
    "    r = float(_l)/_u * (1 - math.exp(-float(_u)*_t))\n",
    "    return math.exp(-r) * math.pow(r,_k) / math.factorial(_k)\n",
    "\n",
    "def mle_estimate(obs,lam_range,mu_range):\n",
    "    lf = np.zeros((len(lam_range),len(mu_range)))\n",
    "    for i,l in enumerate(lam_range):\n",
    "        for j,u in enumerate(mu_range):\n",
    "            for t,ob in enumerate(obs):\n",
    "                prob = infinity_queue(l,1/float(u),ob,t+1)\n",
    "                lf[i][j]+= math.log(prob)\n",
    "    return lf\n",
    "\n",
    "peps, obs = generate_observtaions(3,3,1000,seed=122)\n",
    "# print obs\n",
    "x = mle_estimate(obs,[1,1.5,2,3],[1,1.5,2,3])\n",
    "print x\n",
    "from numpy import unravel_index\n",
    "maxidx = unravel_index(x.argmax(), x.shape)\n",
    "print maxidx,x[maxidx]"
   ]
  },
  {
   "cell_type": "code",
   "execution_count": 197,
   "metadata": {
    "collapsed": false
   },
   "outputs": [
    {
     "data": {
      "text/plain": [
       "0.0"
      ]
     },
     "execution_count": 197,
     "metadata": {},
     "output_type": "execute_result"
    }
   ],
   "source": [
    "x = np.zeros((3,3))\n",
    "x[0][2]"
   ]
  },
  {
   "cell_type": "code",
   "execution_count": null,
   "metadata": {
    "collapsed": true
   },
   "outputs": [],
   "source": []
  }
 ],
 "metadata": {
  "kernelspec": {
   "display_name": "Python 2",
   "language": "python",
   "name": "python2"
  },
  "language_info": {
   "codemirror_mode": {
    "name": "ipython",
    "version": 2
   },
   "file_extension": ".py",
   "mimetype": "text/x-python",
   "name": "python",
   "nbconvert_exporter": "python",
   "pygments_lexer": "ipython2",
   "version": "2.7.12"
  }
 },
 "nbformat": 4,
 "nbformat_minor": 1
}
