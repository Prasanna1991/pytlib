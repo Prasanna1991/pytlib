{
 "cells": [
  {
   "cell_type": "code",
   "execution_count": 259,
   "metadata": {
    "collapsed": false
   },
   "outputs": [
    {
     "name": "stdout",
     "output_type": "stream",
     "text": [
      "[(1, 0.06951394147882671), (2, 0.1150314935793702), (2, 0.12472353683051102), (4, 0.046243356230574503), (4, 0.082370285888142589), (4, 0.069933260151086807)]\n",
      "[0, 1, 2, 0, 3]\n",
      "[[-12.03713049  -9.12259611  -7.90365129  -7.29053762  -6.93271176]\n",
      " [ -9.08911977  -7.17468534  -6.73163796  -6.716694    -6.85095408]\n",
      " [ -7.86720149  -6.952867    -7.28571708  -7.8689428   -8.49528885]\n",
      " [ -7.35198142  -7.43774688  -8.5464944   -9.72788983 -10.84632182]\n",
      " [ -7.22399248  -8.30985788 -10.19450286 -11.97406798 -13.58458592]\n",
      " [ -7.3409355   -9.42690085 -12.08744328 -14.46517809 -16.56778199]]\n",
      "(1, 3) -6.71669399511\n"
     ]
    }
   ],
   "source": [
    "import numpy as np\n",
    "from collections import defaultdict\n",
    "# draw arrivals and wait times from poisson dists to simulate observations\n",
    "# use MLE to find best estimates of lambda, mu\n",
    "po\n",
    "#1) draw two random numbers\n",
    "# lambda is the rate of arrival (in 1/s)\n",
    "# mu is the mean interval of service (in s)\n",
    "def generate_observtaions(lam,mu,num_intervals,seed=1234):\n",
    "    np.random.seed(seed)\n",
    "    arrivals = np.random.poisson(lam,num_intervals)\n",
    "\n",
    "    persons = []\n",
    "    for i,count in enumerate(arrivals):\n",
    "        if count==0: continue\n",
    "        service_times = np.random.exponential(mu,count)\n",
    "        for st in service_times:\n",
    "            persons.append((i,st))\n",
    "\n",
    "    observations = [0]*(num_intervals)\n",
    "    for p in persons:\n",
    "        #print range(p[0],int(p[0]+math.ceil(p[1])))\n",
    "        for i in range(p[0],min(int(p[0]+math.ceil(p[1])),num_intervals)):\n",
    "            observations[i]+=1\n",
    "    return persons,observations\n",
    "\n",
    "def infinity_queue(_l,_u,_k,_t):\n",
    "    assert _k>=0 and isinstance(_k,(int,long)), 'k needs >=0 and is integer'\n",
    "    r = float(_l)/_u * (1 - math.exp(-float(_u)*_t))\n",
    "    return math.exp(-r) * math.pow(r,_k) / math.factorial(_k)\n",
    "\n",
    "def mle_estimate(obs,lam_range,mu_range):\n",
    "    lf = np.zeros((len(lam_range),len(mu_range)))\n",
    "    for i,l in enumerate(lam_range):\n",
    "        for j,u in enumerate(mu_range):\n",
    "            for t,ob in enumerate(obs):\n",
    "                prob = infinity_queue(l,1/float(u),ob,t+1)\n",
    "                lf[i][j]+= math.log(prob)\n",
    "    return lf\n",
    "\n",
    "peps, obs = generate_observtaions(1,0.1,5,seed=1234)\n",
    "print peps\n",
    "print obs\n",
    "x = mle_estimate(obs,[0.5,1,1.5,2,2.5,3],[0.5,1,1.5,2,2.53])\n",
    "print x\n",
    "from numpy import unravel_index\n",
    "maxidx = unravel_index(x.argmax(), x.shape)\n",
    "print maxidx,x[maxidx]"
   ]
  },
  {
   "cell_type": "code",
   "execution_count": null,
   "metadata": {
    "collapsed": true
   },
   "outputs": [],
   "source": []
  }
 ],
 "metadata": {
  "kernelspec": {
   "display_name": "Python 2",
   "language": "python",
   "name": "python2"
  },
  "language_info": {
   "codemirror_mode": {
    "name": "ipython",
    "version": 2
   },
   "file_extension": ".py",
   "mimetype": "text/x-python",
   "name": "python",
   "nbconvert_exporter": "python",
   "pygments_lexer": "ipython2",
   "version": "2.7.12"
  }
 },
 "nbformat": 4,
 "nbformat_minor": 1
}
